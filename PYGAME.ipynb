{
 "cells": [
  {
   "cell_type": "code",
   "execution_count": 10,
   "id": "e6ecd8a4",
   "metadata": {},
   "outputs": [],
   "source": [
    "from random import randint\n",
    "import pygame as pg\n",
    "pg.init()\n",
    "screen = pg.display.set_mode((800, 600), pg.HWSURFACE)\n",
    "scale = 32\n",
    "# for i in range(14):\n",
    "#     pg.draw.line(screen, (0, 255, 0), (0, 0), (100, 100), 5)\n",
    "#     pg.draw.rect(screen, (255, 255, 0), (100, 0, scale, scale))\n",
    "#     pg.draw.circle(screen, (255, 0, 255), (200, 100), scale // 2)\n",
    "\n",
    "for i in range(1500):\n",
    "    pg.draw.line(screen, (0, 0, 255), (0, 0), (randint(0, i), randint(0, i)), 5)\n",
    "    pg.draw.line(screen, (0, 0, 255), (randint(0, i), randint(0, i)), (i, 0), 5) \n",
    "    pg.draw.line(screen, (0, 255, 0), (randint(0, i), randint(0, i)), (randint(0, i), randint(0, i)), 5)\n",
    "    \n",
    "active = True\n",
    "while active:\n",
    "    pg.event.pump()\n",
    "    keys = pg.key.get_pressed()\n",
    "    if keys[pg.K_ESCAPE]:\n",
    "        active = False\n",
    "    pg.time.Clock().tick(18)\n",
    "    pg.display.flip()\n",
    "pg.quit()"
   ]
  },
  {
   "cell_type": "code",
   "execution_count": 9,
   "id": "6c15cd9f",
   "metadata": {},
   "outputs": [],
   "source": [
    "from random import randint\n",
    "import pygame as pg\n",
    "pg.init()\n",
    "screen = pg.display.set_mode((800, 600), pg.HWSURFACE)\n",
    "scale = 32\n",
    "# for i in range(14):\n",
    "#     pg.draw.line(screen, (0, 255, 0), (0, 0), (100, 100), 5)\n",
    "#     pg.draw.rect(screen, (255, 255, 0), (100, 0, scale, scale))\n",
    "#     pg.draw.circle(screen, (255, 0, 255), (200, 100), scale // 2)\n",
    "\n",
    "for i in range(1500):\n",
    "    pg.draw.line(screen, (0, 0, 255), (randint(0, i), randint(0, i)), (randint(0, i), randint(0, i)), 5)\n",
    "    pg.draw.line(screen, (255, 0, 0), (randint(0, i), randint(0, i)), (randint(0, i), randint(0, i)), 5) \n",
    "    pg.draw.line(screen, (0, 255, 0), (randint(0, i), randint(0, i)), (randint(0, i), randint(0, i)), 5)\n",
    "    \n",
    "active = True\n",
    "while active:\n",
    "    pg.event.pump()\n",
    "    keys = pg.key.get_pressed()\n",
    "    if keys[pg.K_ESCAPE]:\n",
    "        active = False\n",
    "    pg.time.Clock().tick(18)\n",
    "    pg.display.flip()\n",
    "pg.quit()"
   ]
  },
  {
   "cell_type": "code",
   "execution_count": null,
   "id": "3dff91c1",
   "metadata": {},
   "outputs": [],
   "source": []
  }
 ],
 "metadata": {
  "kernelspec": {
   "display_name": "Python 3 (ipykernel)",
   "language": "python",
   "name": "python3"
  },
  "language_info": {
   "codemirror_mode": {
    "name": "ipython",
    "version": 3
   },
   "file_extension": ".py",
   "mimetype": "text/x-python",
   "name": "python",
   "nbconvert_exporter": "python",
   "pygments_lexer": "ipython3",
   "version": "3.9.12"
  }
 },
 "nbformat": 4,
 "nbformat_minor": 5
}
