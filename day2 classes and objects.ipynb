{
 "cells": [
  {
   "cell_type": "markdown",
   "id": "e1a5a041",
   "metadata": {},
   "source": [
    "# class and objects in python"
   ]
  },
  {
   "cell_type": "code",
   "execution_count": 47,
   "id": "68a7db0e",
   "metadata": {},
   "outputs": [],
   "source": [
    "class Student:\n",
    "    def __init__(self, name):\n",
    "        self.name = name\n",
    "        self.marks = {}\n",
    "    def addMarks(self, subject, mark):\n",
    "        if subject in self.marks:\n",
    "            self.marks[subject].append(mark)\n",
    "        else:            \n",
    "            self.marks.update({subject: [mark]});\n",
    "        \n",
    "    def printTotal(self):\n",
    "        mars = 0\n",
    "        totalMarks = 0\n",
    "        for subject in self.marks:\n",
    "            for m in self.marks[subject]:\n",
    "                mars = mars + m\n",
    "            totalMarks = totalMarks + 100\n",
    "        print(self.name, 'got', mars, 'out of', totalMarks)\n",
    "    def showMarks(self):\n",
    "        for subject in self.marks:\n",
    "            print(subject, end=':- ')\n",
    "            for mrk in self.marks[subject]:\n",
    "                print(mrk, end=', ')\n",
    "            print()"
   ]
  },
  {
   "cell_type": "code",
   "execution_count": 48,
   "id": "15664af8",
   "metadata": {},
   "outputs": [
    {
     "name": "stdout",
     "output_type": "stream",
     "text": [
      "Tim got 182 out of 300\n"
     ]
    }
   ],
   "source": [
    "s1 = Student(\"Tim\")\n",
    "s1.addMarks(\"Math\", 21)\n",
    "s1.addMarks(\"Physics\", 73)\n",
    "s1.addMarks(\"Literature\", 88)\n",
    "s1.printTotal()"
   ]
  },
  {
   "cell_type": "code",
   "execution_count": 49,
   "id": "ccc0b6b1",
   "metadata": {},
   "outputs": [],
   "source": [
    "s1.addMarks(\"Math\", 10)"
   ]
  },
  {
   "cell_type": "code",
   "execution_count": 50,
   "id": "275bded3",
   "metadata": {},
   "outputs": [
    {
     "name": "stdout",
     "output_type": "stream",
     "text": [
      "Tim got 192 out of 300\n",
      "Math:- 21, 10, \n",
      "Physics:- 73, \n",
      "Literature:- 88, \n"
     ]
    }
   ],
   "source": [
    "s1.printTotal()\n",
    "s1.showMarks()"
   ]
  },
  {
   "cell_type": "code",
   "execution_count": null,
   "id": "610c07e8",
   "metadata": {},
   "outputs": [],
   "source": []
  }
 ],
 "metadata": {
  "kernelspec": {
   "display_name": "Python 3 (ipykernel)",
   "language": "python",
   "name": "python3"
  },
  "language_info": {
   "codemirror_mode": {
    "name": "ipython",
    "version": 3
   },
   "file_extension": ".py",
   "mimetype": "text/x-python",
   "name": "python",
   "nbconvert_exporter": "python",
   "pygments_lexer": "ipython3",
   "version": "3.9.12"
  }
 },
 "nbformat": 4,
 "nbformat_minor": 5
}
