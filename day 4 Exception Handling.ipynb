{
 "cells": [
  {
   "cell_type": "markdown",
   "id": "81764807",
   "metadata": {},
   "source": [
    "# Exception"
   ]
  },
  {
   "cell_type": "code",
   "execution_count": 1,
   "id": "3d1bca43",
   "metadata": {},
   "outputs": [
    {
     "name": "stdout",
     "output_type": "stream",
     "text": [
      "1/ 1 = 1.0\n",
      "1/ 2 = 0.5\n",
      "1/ 0 = undefined\n",
      "1/ [1, 3, 4] = undefined\n",
      "1/ abc = undefined\n"
     ]
    }
   ],
   "source": [
    "def invert(x):\n",
    "    try:\n",
    "        ans = 1/x\n",
    "    except Exception as err:\n",
    "        pass\n",
    "    else:\n",
    "        return ans\n",
    "    \n",
    "    \n",
    "li = [1, 2, 0, [1, 3, 4], 'abc']\n",
    "for data in li:\n",
    "    res = invert(data)\n",
    "    if res != None:\n",
    "        print('1/',data,'=',res)\n",
    "    else:\n",
    "        print('1/',data,'= undefined')"
   ]
  },
  {
   "cell_type": "code",
   "execution_count": 2,
   "id": "72a66435",
   "metadata": {},
   "outputs": [],
   "source": [
    "f1 = open('data.txt', 'w')\n",
    "f1.write('one\\ntwo\\nthree')\n",
    "f1.close()"
   ]
  },
  {
   "cell_type": "code",
   "execution_count": 3,
   "id": "34f5cd9a",
   "metadata": {},
   "outputs": [
    {
     "name": "stdout",
     "output_type": "stream",
     "text": [
      "one\n",
      "two\n",
      "three\n"
     ]
    }
   ],
   "source": [
    "f1 = open('data.txt', 'r')\n",
    "cont = f1.read()\n",
    "print(cont)\n",
    "f1.close()"
   ]
  },
  {
   "cell_type": "code",
   "execution_count": 4,
   "id": "ec93ce2c",
   "metadata": {},
   "outputs": [
    {
     "name": "stdout",
     "output_type": "stream",
     "text": [
      "one\n",
      " two\n",
      " three "
     ]
    }
   ],
   "source": [
    "f1 = open('data.txt', 'r')\n",
    "for line in f1:\n",
    "    print(line, end=' ')\n",
    "f1.close()"
   ]
  },
  {
   "cell_type": "markdown",
   "id": "f5a59e42",
   "metadata": {},
   "source": [
    "# Numpy"
   ]
  },
  {
   "cell_type": "code",
   "execution_count": 5,
   "id": "60d1ae83",
   "metadata": {},
   "outputs": [
    {
     "name": "stdout",
     "output_type": "stream",
     "text": [
      "<class 'module'>\n"
     ]
    }
   ],
   "source": [
    "import numpy as np\n",
    "print(type(np))"
   ]
  },
  {
   "cell_type": "code",
   "execution_count": 6,
   "id": "9c36439e",
   "metadata": {},
   "outputs": [],
   "source": [
    "data = 10*np.random.randn(2, 3, 4)"
   ]
  },
  {
   "cell_type": "code",
   "execution_count": 7,
   "id": "1452e6a0",
   "metadata": {},
   "outputs": [
    {
     "name": "stdout",
     "output_type": "stream",
     "text": [
      "[[[ -2.59609119 -18.80489988 -11.62663982  15.93971052]\n",
      "  [ 10.9412153   -1.47801611  12.75310272 -17.04874373]\n",
      "  [ 10.35837501  -1.80762766   2.31680819  16.02817195]]\n",
      "\n",
      " [[-13.56041186   8.80496801 -22.11885714  -7.35853102]\n",
      "  [  1.99798725  -8.03457239   1.21629998  16.38192384]\n",
      "  [  1.0785648   -1.51194296  -1.28976977   8.44507035]]]\n"
     ]
    }
   ],
   "source": [
    "print(data)"
   ]
  },
  {
   "cell_type": "code",
   "execution_count": 8,
   "id": "a180ea38",
   "metadata": {},
   "outputs": [
    {
     "name": "stdout",
     "output_type": "stream",
     "text": [
      "[[[-12.   6.  -3.   2.]\n",
      "  [ 15.   8. -14.   4.]\n",
      "  [  9.   2.   4.  -8.]]\n",
      "\n",
      " [[ -2. -14.  -7.   1.]\n",
      "  [  3.  -4. -12.  -2.]\n",
      "  [-12.  -2.   9.  -2.]]]\n"
     ]
    }
   ],
   "source": [
    "data = np.round(10*np.random.randn(2, 3, 4))\n",
    "print(data)"
   ]
  },
  {
   "cell_type": "code",
   "execution_count": 9,
   "id": "15c24d54",
   "metadata": {},
   "outputs": [
    {
     "name": "stdout",
     "output_type": "stream",
     "text": [
      "[[ -2. -14.  -7.   1.]\n",
      " [  3.  -4. -12.  -2.]\n",
      " [-12.  -2.   9.  -2.]]\n"
     ]
    }
   ],
   "source": [
    "print(data[1])"
   ]
  },
  {
   "cell_type": "code",
   "execution_count": 10,
   "id": "a5f2fd68",
   "metadata": {},
   "outputs": [
    {
     "name": "stdout",
     "output_type": "stream",
     "text": [
      "[[[ 15.   8. -14.   4.]\n",
      "  [  9.   2.   4.  -8.]]\n",
      "\n",
      " [[  3.  -4. -12.  -2.]\n",
      "  [-12.  -2.   9.  -2.]]]\n"
     ]
    }
   ],
   "source": [
    "print(data[:,1:,:])"
   ]
  },
  {
   "cell_type": "code",
   "execution_count": 11,
   "id": "2c317b30",
   "metadata": {},
   "outputs": [
    {
     "name": "stdout",
     "output_type": "stream",
     "text": [
      "[[[  8. -14.]\n",
      "  [  2.   4.]]\n",
      "\n",
      " [[ -4. -12.]\n",
      "  [ -2.   9.]]]\n"
     ]
    }
   ],
   "source": [
    "print(data[:,1:,1:3])"
   ]
  },
  {
   "cell_type": "code",
   "execution_count": 12,
   "id": "3d20dcf3",
   "metadata": {},
   "outputs": [
    {
     "name": "stdout",
     "output_type": "stream",
     "text": [
      "[[1. 1. 1.]\n",
      " [1. 1. 1.]]\n"
     ]
    }
   ],
   "source": [
    "print(np.ones((2, 3)))"
   ]
  },
  {
   "cell_type": "code",
   "execution_count": 13,
   "id": "95e07a17",
   "metadata": {},
   "outputs": [
    {
     "name": "stdout",
     "output_type": "stream",
     "text": [
      "[[1. 0. 0. 0.]\n",
      " [0. 1. 0. 0.]\n",
      " [0. 0. 1. 0.]\n",
      " [0. 0. 0. 1.]]\n"
     ]
    }
   ],
   "source": [
    "print(np.eye(4))"
   ]
  },
  {
   "cell_type": "code",
   "execution_count": 16,
   "id": "cbb80c29",
   "metadata": {},
   "outputs": [
    {
     "name": "stdout",
     "output_type": "stream",
     "text": [
      "[[1 2]\n",
      " [5 6]\n",
      " [3 4]]\n"
     ]
    }
   ],
   "source": [
    "data = np.matrix([[1,2], [5, 6], [3,4]])\n",
    "print(data)"
   ]
  },
  {
   "cell_type": "code",
   "execution_count": 17,
   "id": "634652ab",
   "metadata": {},
   "outputs": [
    {
     "name": "stdout",
     "output_type": "stream",
     "text": [
      "[[1 5 3]\n",
      " [2 6 4]]\n"
     ]
    }
   ],
   "source": [
    "print(data.T)"
   ]
  },
  {
   "cell_type": "code",
   "execution_count": 18,
   "id": "22f7f48c",
   "metadata": {},
   "outputs": [
    {
     "name": "stdout",
     "output_type": "stream",
     "text": [
      "[[ 0.84147098  0.90929743]\n",
      " [-0.95892427 -0.2794155 ]\n",
      " [ 0.14112001 -0.7568025 ]]\n"
     ]
    }
   ],
   "source": [
    "print(np.sin(data))"
   ]
  },
  {
   "cell_type": "code",
   "execution_count": 19,
   "id": "f885de38",
   "metadata": {},
   "outputs": [
    {
     "name": "stdout",
     "output_type": "stream",
     "text": [
      "[[ 1  4]\n",
      " [25 36]\n",
      " [ 9 16]]\n"
     ]
    }
   ],
   "source": [
    "print(np.power(data, 2))"
   ]
  },
  {
   "cell_type": "code",
   "execution_count": 21,
   "id": "e5a9c436",
   "metadata": {},
   "outputs": [
    {
     "name": "stdout",
     "output_type": "stream",
     "text": [
      "[[1.         1.41421356]\n",
      " [2.23606798 2.44948974]\n",
      " [1.73205081 2.        ]]\n"
     ]
    }
   ],
   "source": [
    "print(np.power(data, 0.5))"
   ]
  },
  {
   "cell_type": "code",
   "execution_count": 22,
   "id": "43d69438",
   "metadata": {},
   "outputs": [
    {
     "name": "stdout",
     "output_type": "stream",
     "text": [
      "[[ 5 17 11]\n",
      " [17 61 39]\n",
      " [11 39 25]]\n"
     ]
    }
   ],
   "source": [
    "print(data.dot(data.T)) ### matrix multiplication"
   ]
  },
  {
   "cell_type": "code",
   "execution_count": null,
   "id": "4cf9017f",
   "metadata": {},
   "outputs": [],
   "source": []
  }
 ],
 "metadata": {
  "kernelspec": {
   "display_name": "Python 3 (ipykernel)",
   "language": "python",
   "name": "python3"
  },
  "language_info": {
   "codemirror_mode": {
    "name": "ipython",
    "version": 3
   },
   "file_extension": ".py",
   "mimetype": "text/x-python",
   "name": "python",
   "nbconvert_exporter": "python",
   "pygments_lexer": "ipython3",
   "version": "3.9.12"
  }
 },
 "nbformat": 4,
 "nbformat_minor": 5
}
