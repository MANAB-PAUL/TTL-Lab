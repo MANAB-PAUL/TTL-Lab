{
 "cells": [
  {
   "cell_type": "markdown",
   "id": "610bd332",
   "metadata": {},
   "source": [
    "# Abstraction"
   ]
  },
  {
   "cell_type": "code",
   "execution_count": 1,
   "id": "76b4b010",
   "metadata": {},
   "outputs": [
    {
     "name": "stdout",
     "output_type": "stream",
     "text": [
      "Phew Phew! Polly says hi!\n",
      "Woof Woof! Rex says hi!\n",
      "Meow Meow! Tom says hi!\n",
      "Meow Meow! Jerry says hi!\n",
      "Polly is a Parrot\n",
      "Rex is a German Shepherd\n",
      "Tom is a Cat\n"
     ]
    }
   ],
   "source": [
    "class Pet:\n",
    "    def __init__(self, name, kind):\n",
    "        self.name = name\n",
    "        self.kind = kind\n",
    "    \n",
    "    def greet(self):\n",
    "        print('Hello, I am', self.name, 'and I am a', self.kind)\n",
    "    def describe(self):\n",
    "        print(self.name, 'is a', self.kind)\n",
    "\n",
    "class Parrot(Pet):\n",
    "    def __init__(self, name):\n",
    "        Pet.__init__(self, name, 'Parrot')\n",
    "        \n",
    "    def greet(self):\n",
    "        print(\"Phew Phew!\", self.name, 'says hi!')\n",
    "\n",
    "class Dog(Pet):\n",
    "    def __init__(self, name, breed):\n",
    "        Pet.__init__(self, name, 'Dog')\n",
    "        self.breed = breed\n",
    "    def greet(self):\n",
    "        print(\"Woof Woof!\", self.name, 'says hi!')\n",
    "    \n",
    "    def describe(self):\n",
    "        print(self.name, 'is a', self.breed)\n",
    "\n",
    "class Cat(Pet):\n",
    "    def __init__(self, name,color):\n",
    "        Pet.__init__(self, name, 'Cat')\n",
    "        self.color = color\n",
    "    def greet(self):\n",
    "        print(\"Meow Meow!\", self.name, 'says hi!')\n",
    "    def isBlack(self):\n",
    "        if self.color == 'Black':\n",
    "            return True\n",
    "        else:\n",
    "            return False\n",
    "        \n",
    "p1 = Parrot('Polly')\n",
    "p2 = Dog('Rex', 'German Shepherd')\n",
    "p3 = Cat('Tom', 'Black')\n",
    "p4 = Cat('Jerry', 'White')\n",
    "\n",
    "p1.greet()\n",
    "p2.greet()\n",
    "p3.greet()\n",
    "p4.greet()\n",
    "\n",
    "\n",
    "p1.describe()\n",
    "p2.describe()\n",
    "p3.describe()"
   ]
  },
  {
   "cell_type": "code",
   "execution_count": 2,
   "id": "89903e85",
   "metadata": {},
   "outputs": [
    {
     "ename": "ModuleNotFoundError",
     "evalue": "No module named 'pymongo'",
     "output_type": "error",
     "traceback": [
      "\u001b[1;31m---------------------------------------------------------------------------\u001b[0m",
      "\u001b[1;31mModuleNotFoundError\u001b[0m                       Traceback (most recent call last)",
      "Input \u001b[1;32mIn [2]\u001b[0m, in \u001b[0;36m<cell line: 1>\u001b[1;34m()\u001b[0m\n\u001b[1;32m----> 1\u001b[0m \u001b[38;5;28;01mfrom\u001b[39;00m \u001b[38;5;21;01mpymongo\u001b[39;00m \u001b[38;5;28;01mimport\u001b[39;00m MongoClient\n\u001b[0;32m      2\u001b[0m \u001b[38;5;66;03m# IP = 10.3.20.255\u001b[39;00m\n\u001b[0;32m      3\u001b[0m client \u001b[38;5;241m=\u001b[39m MongoClient(\u001b[38;5;124m'\u001b[39m\u001b[38;5;124m10.3.20.255\u001b[39m\u001b[38;5;124m'\u001b[39m)\n",
      "\u001b[1;31mModuleNotFoundError\u001b[0m: No module named 'pymongo'"
     ]
    }
   ],
   "source": [
    "from pymongo import MongoClient\n",
    "# IP = 10.3.20.255\n",
    "client = MongoClient('10.3.20.255')\n",
    "friends = client.cs001.friends"
   ]
  },
  {
   "cell_type": "code",
   "execution_count": 3,
   "id": "5de0d58a",
   "metadata": {},
   "outputs": [
    {
     "ename": "NameError",
     "evalue": "name 'friends' is not defined",
     "output_type": "error",
     "traceback": [
      "\u001b[1;31m---------------------------------------------------------------------------\u001b[0m",
      "\u001b[1;31mNameError\u001b[0m                                 Traceback (most recent call last)",
      "Input \u001b[1;32mIn [3]\u001b[0m, in \u001b[0;36m<cell line: 1>\u001b[1;34m()\u001b[0m\n\u001b[1;32m----> 1\u001b[0m \u001b[43mfriends\u001b[49m\u001b[38;5;241m.\u001b[39minsert_one({\u001b[38;5;124m'\u001b[39m\u001b[38;5;124mname\u001b[39m\u001b[38;5;124m'\u001b[39m:\u001b[38;5;124m'\u001b[39m\u001b[38;5;124mPerson-1\u001b[39m\u001b[38;5;124m'\u001b[39m,\u001b[38;5;124m'\u001b[39m\u001b[38;5;124myear\u001b[39m\u001b[38;5;124m'\u001b[39m:\u001b[38;5;241m2018\u001b[39m})\n\u001b[0;32m      2\u001b[0m friends\u001b[38;5;241m.\u001b[39minsert_one({\u001b[38;5;124m'\u001b[39m\u001b[38;5;124mname\u001b[39m\u001b[38;5;124m'\u001b[39m:\u001b[38;5;124m'\u001b[39m\u001b[38;5;124mPerson-2\u001b[39m\u001b[38;5;124m'\u001b[39m,\u001b[38;5;124m'\u001b[39m\u001b[38;5;124myear\u001b[39m\u001b[38;5;124m'\u001b[39m:\u001b[38;5;241m2019\u001b[39m})\n\u001b[0;32m      3\u001b[0m friends\u001b[38;5;241m.\u001b[39minsert_one({\u001b[38;5;124m'\u001b[39m\u001b[38;5;124mname\u001b[39m\u001b[38;5;124m'\u001b[39m:\u001b[38;5;124m'\u001b[39m\u001b[38;5;124mPerson-3\u001b[39m\u001b[38;5;124m'\u001b[39m,\u001b[38;5;124m'\u001b[39m\u001b[38;5;124myear\u001b[39m\u001b[38;5;124m'\u001b[39m:\u001b[38;5;241m2020\u001b[39m})\n",
      "\u001b[1;31mNameError\u001b[0m: name 'friends' is not defined"
     ]
    }
   ],
   "source": [
    "friends.insert_one({'name':'Person-1','year':2018})\n",
    "friends.insert_one({'name':'Person-2','year':2019})\n",
    "friends.insert_one({'name':'Person-3','year':2020})"
   ]
  },
  {
   "cell_type": "code",
   "execution_count": 4,
   "id": "5c6be25a",
   "metadata": {},
   "outputs": [
    {
     "ename": "NameError",
     "evalue": "name 'friends' is not defined",
     "output_type": "error",
     "traceback": [
      "\u001b[1;31m---------------------------------------------------------------------------\u001b[0m",
      "\u001b[1;31mNameError\u001b[0m                                 Traceback (most recent call last)",
      "Input \u001b[1;32mIn [4]\u001b[0m, in \u001b[0;36m<cell line: 1>\u001b[1;34m()\u001b[0m\n\u001b[1;32m----> 1\u001b[0m \u001b[43mfriends\u001b[49m\u001b[38;5;241m.\u001b[39mupdate_one({\u001b[38;5;124m'\u001b[39m\u001b[38;5;124mname\u001b[39m\u001b[38;5;124m'\u001b[39m:\u001b[38;5;124m'\u001b[39m\u001b[38;5;124mPerson-1\u001b[39m\u001b[38;5;124m'\u001b[39m}, {\u001b[38;5;124m'\u001b[39m\u001b[38;5;124m$set\u001b[39m\u001b[38;5;124m'\u001b[39m : {\u001b[38;5;124m'\u001b[39m\u001b[38;5;124myear\u001b[39m\u001b[38;5;124m'\u001b[39m : \u001b[38;5;241m2017\u001b[39m}})\n",
      "\u001b[1;31mNameError\u001b[0m: name 'friends' is not defined"
     ]
    }
   ],
   "source": [
    "friends.update_one({'name':'Person-1'}, {'$set' : {'year' : 2017}})"
   ]
  },
  {
   "cell_type": "code",
   "execution_count": 5,
   "id": "22aba746",
   "metadata": {},
   "outputs": [
    {
     "ename": "NameError",
     "evalue": "name 'friends' is not defined",
     "output_type": "error",
     "traceback": [
      "\u001b[1;31m---------------------------------------------------------------------------\u001b[0m",
      "\u001b[1;31mNameError\u001b[0m                                 Traceback (most recent call last)",
      "Input \u001b[1;32mIn [5]\u001b[0m, in \u001b[0;36m<cell line: 1>\u001b[1;34m()\u001b[0m\n\u001b[1;32m----> 1\u001b[0m \u001b[43mfriends\u001b[49m\u001b[38;5;241m.\u001b[39mfind_one({\u001b[38;5;124m'\u001b[39m\u001b[38;5;124mname\u001b[39m\u001b[38;5;124m'\u001b[39m:\u001b[38;5;124m'\u001b[39m\u001b[38;5;124mPerson-1\u001b[39m\u001b[38;5;124m'\u001b[39m})\n",
      "\u001b[1;31mNameError\u001b[0m: name 'friends' is not defined"
     ]
    }
   ],
   "source": [
    "friends.find_one({'name':'Person-1'})"
   ]
  },
  {
   "cell_type": "code",
   "execution_count": null,
   "id": "453d5a21",
   "metadata": {},
   "outputs": [],
   "source": []
  }
 ],
 "metadata": {
  "kernelspec": {
   "display_name": "Python 3 (ipykernel)",
   "language": "python",
   "name": "python3"
  },
  "language_info": {
   "codemirror_mode": {
    "name": "ipython",
    "version": 3
   },
   "file_extension": ".py",
   "mimetype": "text/x-python",
   "name": "python",
   "nbconvert_exporter": "python",
   "pygments_lexer": "ipython3",
   "version": "3.9.12"
  }
 },
 "nbformat": 4,
 "nbformat_minor": 5
}
