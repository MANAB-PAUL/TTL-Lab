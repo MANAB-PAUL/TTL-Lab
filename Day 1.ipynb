{
 "cells": [
  {
   "cell_type": "code",
   "execution_count": 4,
   "id": "6dc2c406",
   "metadata": {},
   "outputs": [
    {
     "name": "stdout",
     "output_type": "stream",
     "text": [
      "7\n",
      "-1\n",
      "12\n",
      "1\n",
      "1.3333333333333333\n",
      "1\n",
      "3\n",
      "7\n",
      "81\n"
     ]
    }
   ],
   "source": [
    "a = 3\n",
    "b = 4\n",
    "res = a + b\n",
    "print(res)\n",
    "res = a - b\n",
    "print(res)\n",
    "res = a * b\n",
    "print(res)\n",
    "res = b // a\n",
    "print(res)\n",
    "res = b / a\n",
    "print(res)\n",
    "res = b % a\n",
    "print(res)\n",
    "res = 0\n",
    "res += a\n",
    "print(res)\n",
    "res += b\n",
    "print(res)\n",
    "res = a ** b\n",
    "print(res)"
   ]
  },
  {
   "cell_type": "code",
   "execution_count": 2,
   "id": "99171883",
   "metadata": {},
   "outputs": [
    {
     "name": "stdout",
     "output_type": "stream",
     "text": [
      "False\n",
      "True\n",
      "False\n",
      "False\n",
      "True\n"
     ]
    }
   ],
   "source": [
    "print(a > b)\n",
    "print(b > a)\n",
    "print(a == b)\n",
    "print(a >= b)\n",
    "print(b >= a)"
   ]
  },
  {
   "cell_type": "code",
   "execution_count": 5,
   "id": "feaa6036",
   "metadata": {},
   "outputs": [
    {
     "name": "stdout",
     "output_type": "stream",
     "text": [
      "4\n",
      "12\n",
      "1728\n"
     ]
    }
   ],
   "source": [
    "res = 0\n",
    "res += b\n",
    "print(res)\n",
    "res *= a\n",
    "print(res)\n",
    "res **=a\n",
    "print(res)"
   ]
  },
  {
   "cell_type": "markdown",
   "id": "e71433b2",
   "metadata": {},
   "source": [
    "# String"
   ]
  },
  {
   "cell_type": "code",
   "execution_count": 3,
   "id": "e652e929",
   "metadata": {},
   "outputs": [
    {
     "name": "stdout",
     "output_type": "stream",
     "text": [
      "String\n",
      "S\n",
      "rin\n",
      "ring\n",
      "StringString\n",
      "StringTEST\n"
     ]
    }
   ],
   "source": [
    "str = 'String'\n",
    "print (str) # Prints complete string\n",
    "print (str[0]) # Prints first character of the string\n",
    "print (str[2:5]) # Prints characters starting from 3rd to 5th\n",
    "print (str[2:]) # Prints string starting from 3rd character\n",
    "print (str * 2) # Prints string two times\n",
    "print (str + \"TEST\") # Prints concatenated string"
   ]
  },
  {
   "cell_type": "code",
   "execution_count": null,
   "id": "9eff679a",
   "metadata": {},
   "outputs": [],
   "source": []
  }
 ],
 "metadata": {
  "kernelspec": {
   "display_name": "Python 3 (ipykernel)",
   "language": "python",
   "name": "python3"
  },
  "language_info": {
   "codemirror_mode": {
    "name": "ipython",
    "version": 3
   },
   "file_extension": ".py",
   "mimetype": "text/x-python",
   "name": "python",
   "nbconvert_exporter": "python",
   "pygments_lexer": "ipython3",
   "version": "3.9.12"
  }
 },
 "nbformat": 4,
 "nbformat_minor": 5
}
